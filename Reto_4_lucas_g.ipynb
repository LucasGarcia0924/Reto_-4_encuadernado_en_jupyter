{
 "cells": [
  {
   "cell_type": "markdown",
   "metadata": {},
   "source": [
    "# Reto 4 PDC\n",
    "***\n",
    "- Lucas García Álvarez 2024\n",
    "\n",
    "En este Notebook se encuentran códigos que buscan solucionar los 6 incisos dispuestos en el reto."
   ]
  },
  {
   "cell_type": "markdown",
   "metadata": {},
   "source": [
    "## Inciso #1\n",
    "***\n",
    "Dado un número entero, determinar si ese número corresponde al código ASCII de una vocal minúscula."
   ]
  },
  {
   "cell_type": "code",
   "execution_count": null,
   "metadata": {},
   "outputs": [],
   "source": [
    "num_ent: int\n",
    "\n",
    "if __name__ == \"__main__\":\n",
    "    num_ent = input(\"Digita un número para verificar si corresponde al código ASCII de una vocal minúscula\")\n",
    "    if num_ent == \"97\":\n",
    "        print(\"Si corresponde y es el código de \\\"a\\\" \")\n",
    "    elif num_ent == \"101\":\n",
    "        print(\"Si corresponde y es el código de \\\"e\\\" \")\n",
    "    elif num_ent == \"105\":\n",
    "        print(\"Si corresponde y es el código de \\\"i\\\" \")\n",
    "    elif num_ent == \"111\":\n",
    "        print(\"Si corresponde y es el código de \\\"o\\\" \")\n",
    "    elif num_ent == \"117\":\n",
    "        print(\"Si corresponde y es el código de \\\"u\\\" \")\n",
    "    else:\n",
    "        print(num_ent, \"No corresponde al código ASCII de ninguna vocal minúscula\")"
   ]
  },
  {
   "cell_type": "markdown",
   "metadata": {},
   "source": [
    "## Inciso #2\n",
    "***\n",
    "Dada una cadena de longitud 1, determine si el código ASCII de primera letra de la cadena es par o no."
   ]
  },
  {
   "cell_type": "code",
   "execution_count": null,
   "metadata": {},
   "outputs": [],
   "source": [
    "num : int\n",
    "\n",
    "if __name__ == \"__main__\":\n",
    "    cadena = str(input(\"Ingrese una cadena de longitud 1 (una letra, un símbolo, número, etc):\"))\n",
    "    if len(cadena) != 1:\n",
    "        cadena = cadena[0]\n",
    "        print(\"Ya que no ingresaste un solo carácter tomaré el primero, el cual es:\", cadena)\n",
    "    num = ord(cadena)\n",
    "    print(\"El código ASCII del carácter (\", cadena, \") es:\", num)\n",
    "    divisionSobreDos : int = int(num)%2\n",
    "    if divisionSobreDos == 0: \n",
    "        print(\"y\", str(num), \"es par\")\n",
    "    else:\n",
    "        print(\"y\", str(num), \"es impar\")"
   ]
  },
  {
   "cell_type": "markdown",
   "metadata": {},
   "source": [
    "## Inciso #3\n",
    "***\n",
    "Dado un carácter, construya un programa en Python para determinar si el carácter es un dígito o no.\n"
   ]
  },
  {
   "cell_type": "code",
   "execution_count": null,
   "metadata": {},
   "outputs": [],
   "source": [
    "carac: str\n",
    "x: bool = True\n",
    "\n",
    "if __name__ == \"__main__\":\n",
    "\n",
    "    while x == True:\n",
    "        try:\n",
    "            carac = int(input(\"Ingrese un carácter\"))\n",
    "            if carac >= 0 and carac <= 9:\n",
    "                print(carac, \"es un dígito\")\n",
    "            else:\n",
    "                print(carac, \"no es un dígito\")\n",
    "        except ValueError:\n",
    "            print(\"Eso ni siquiera es un número\")\n",
    "        finally:\n",
    "            break"
   ]
  },
  {
   "cell_type": "markdown",
   "metadata": {},
   "source": [
    "## Inciso #4\n",
    "***\n",
    "Dado un número real x, construya un programa que permita determinar si el número es positivo, negativo o cero. Para cada caso de debe imprimir el texto que se especifica a continuación:\n",
    "\n",
    "- **Positivo**: \"El número x es positivo\"\n",
    "- **Negativo**: \"El número x es negativo\"\n",
    "- **Cero (0)**: \"El número x es el neutro para la suma\""
   ]
  },
  {
   "cell_type": "code",
   "execution_count": null,
   "metadata": {},
   "outputs": [],
   "source": [
    "real : float\n",
    "\n",
    "if __name__ == \"__main__\":\n",
    "\n",
    "    real = float(input(\"Ingresa un número\"))\n",
    "    if real > 0:\n",
    "        print(\"El número\", real, \"es positivo\")\n",
    "    elif real < 0:\n",
    "        print(\"El número\", real, \"es negativo\")\n",
    "    else:\n",
    "        print(\"El número\", real, \"es neutro para la suma\")"
   ]
  },
  {
   "cell_type": "markdown",
   "metadata": {},
   "source": [
    "## Inciso #5\n",
    "***\n",
    "Dado el centro y el radio de un círculo, determinar si un punto de R2 pertenece o no al interior del círculo."
   ]
  },
  {
   "cell_type": "code",
   "execution_count": null,
   "metadata": {},
   "outputs": [],
   "source": [
    "centro_x: float\n",
    "centro_y: float\n",
    "radio_circulo : float\n",
    "punt_x = float\n",
    "punt_y = float\n",
    "\n",
    "if __name__ == \"__main__\":\n",
    "\n",
    "    print(\"Este programa te ayudará a verificar si un punto dentro de R2 se encuentra al interior del circulo\")\n",
    "    print(\"Por lo que ahora haz de ingresar los datos del círculo\")\n",
    "    centro_x = float(input(\"Coordenada en el eje x\"))\n",
    "    centro_y = float(input(\"Coordenada en el eje y\"))\n",
    "    radio_circulo = float(input(\"Radio\"))\n",
    "\n",
    "    print(\"Ahora ingresa las coordenadas del punto que desees\")\n",
    "    punt_x = float(input(\"En el eje x\"))\n",
    "    punt_y = float(input(\"En el eje y\"))\n",
    "\n",
    "    print(\"Y con estos datos tenemos que\")\n",
    "\n",
    "    if (punt_x-centro_x)**2 + (punt_y-centro_y)**2 < radio_circulo * radio_circulo:\n",
    "        print(\"El punto (\", punt_x, \",\", punt_y, \") está dentro del círculo\")\n",
    "    elif (punt_x-centro_x)**2 + (punt_y-centro_y)**2 == radio_circulo * radio_circulo:\n",
    "        print(\"El punto (\", punt_x, \",\", punt_y, \") está justo en la circunferencia\")\n",
    "    else:\n",
    "        print(\"El punto (\", punt_x, \",\", punt_y, \") no está dentro del círculo\")"
   ]
  },
  {
   "cell_type": "markdown",
   "metadata": {},
   "source": [
    "## Inciso #6\n",
    "***\n",
    "Dadas tres longitudes positivas, determinar si con esas longitudes se puede construir un triángulo."
   ]
  },
  {
   "cell_type": "code",
   "execution_count": null,
   "metadata": {},
   "outputs": [],
   "source": [
    "a: float\n",
    "b: float\n",
    "c: float\n",
    "\n",
    "\n",
    "if __name__ == \"__main__\":\n",
    "    print(\"Ingresa 3 longitudes positivas y veremos si con ellas se puede construir un triángulo\")\n",
    "    a = float(input(\"La primera\"))\n",
    "    b = float(input(\"La segunda\"))\n",
    "    c = float(input(\"La tercera\"))\n",
    "\n",
    "    if a > 0 and b > 0 and c > 0:\n",
    "        if a + b > c and c + a > b and b + c > a:\n",
    "            print(\"Sí es posible formar un triángulo con estas medidas\")\n",
    "        else:\n",
    "            print(\"No es posible formar un triángulo con estas medidas\")\n",
    "    elif a == 0 or b == 0 or c == 0:\n",
    "        if a == 0:\n",
    "            print(a, \"es un valor inválido, intenta de nuevo\")\n",
    "        elif b == 0:\n",
    "            print(b, \"es un valor inválido, intenta de nuevo\")\n",
    "        else:\n",
    "            print(c, \"es un valor inválido, intenta de nuevo\")\n",
    "    else:\n",
    "        print(\"Alguna(s) de tus longitudes es(son) negativa(s), intenta de nuevo con otros valores\")"
   ]
  }
 ],
 "metadata": {
  "kernelspec": {
   "display_name": "Python 3",
   "language": "python",
   "name": "python3"
  },
  "language_info": {
   "codemirror_mode": {
    "name": "ipython",
    "version": 3
   },
   "file_extension": ".py",
   "mimetype": "text/x-python",
   "name": "python",
   "nbconvert_exporter": "python",
   "pygments_lexer": "ipython3",
   "version": "3.12.2"
  }
 },
 "nbformat": 4,
 "nbformat_minor": 2
}
